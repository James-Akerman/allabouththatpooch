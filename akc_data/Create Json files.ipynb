{
 "cells": [
  {
   "cell_type": "code",
   "execution_count": 1,
   "id": "c0077b38",
   "metadata": {},
   "outputs": [],
   "source": [
    "# Setup\n",
    "import pandas as pd\n",
    "from bs4 import BeautifulSoup\n",
    "import requests\n",
    "import json\n",
    "\n",
    "# Show all rows\n",
    "pd.set_option('display.max_rows', None)"
   ]
  },
  {
   "cell_type": "code",
   "execution_count": 2,
   "id": "29ed5705",
   "metadata": {},
   "outputs": [],
   "source": [
    "df = pd.read_csv('data.csv')"
   ]
  },
  {
   "cell_type": "code",
   "execution_count": 3,
   "id": "7da85948",
   "metadata": {},
   "outputs": [
    {
     "data": {
      "text/html": [
       "<div>\n",
       "<style scoped>\n",
       "    .dataframe tbody tr th:only-of-type {\n",
       "        vertical-align: middle;\n",
       "    }\n",
       "\n",
       "    .dataframe tbody tr th {\n",
       "        vertical-align: top;\n",
       "    }\n",
       "\n",
       "    .dataframe thead th {\n",
       "        text-align: right;\n",
       "    }\n",
       "</style>\n",
       "<table border=\"1\" class=\"dataframe\">\n",
       "  <thead>\n",
       "    <tr style=\"text-align: right;\">\n",
       "      <th></th>\n",
       "      <th>Breed</th>\n",
       "      <th>Weight_Male_Min</th>\n",
       "      <th>Weight_Male_Max</th>\n",
       "      <th>Weight_Female_Min</th>\n",
       "      <th>Weight_Female_Max</th>\n",
       "      <th>Size_Male</th>\n",
       "      <th>Size_Female</th>\n",
       "      <th>Url</th>\n",
       "    </tr>\n",
       "  </thead>\n",
       "  <tbody>\n",
       "    <tr>\n",
       "      <th>0</th>\n",
       "      <td>Affenpinschers</td>\n",
       "      <td>7.0</td>\n",
       "      <td>10.0</td>\n",
       "      <td>7.0</td>\n",
       "      <td>10</td>\n",
       "      <td>Small</td>\n",
       "      <td>Small</td>\n",
       "      <td>https://www.akc.org/dog-breeds/affenpinscher/</td>\n",
       "    </tr>\n",
       "    <tr>\n",
       "      <th>1</th>\n",
       "      <td>Afghan Hounds</td>\n",
       "      <td>50.0</td>\n",
       "      <td>60.0</td>\n",
       "      <td>50.0</td>\n",
       "      <td>60</td>\n",
       "      <td>Medium</td>\n",
       "      <td>Medium</td>\n",
       "      <td>https://www.akc.org/dog-breeds/afghan-hound/</td>\n",
       "    </tr>\n",
       "    <tr>\n",
       "      <th>2</th>\n",
       "      <td>Airedale Terriers</td>\n",
       "      <td>50.0</td>\n",
       "      <td>70.0</td>\n",
       "      <td>50.0</td>\n",
       "      <td>70</td>\n",
       "      <td>Medium</td>\n",
       "      <td>Medium</td>\n",
       "      <td>https://www.akc.org/dog-breeds/airedale-terrier/</td>\n",
       "    </tr>\n",
       "    <tr>\n",
       "      <th>3</th>\n",
       "      <td>Akitas</td>\n",
       "      <td>100.0</td>\n",
       "      <td>130.0</td>\n",
       "      <td>70.0</td>\n",
       "      <td>100</td>\n",
       "      <td>Large</td>\n",
       "      <td>Large</td>\n",
       "      <td>https://www.akc.org/dog-breeds/akita/</td>\n",
       "    </tr>\n",
       "    <tr>\n",
       "      <th>4</th>\n",
       "      <td>Alaskan Malamutes</td>\n",
       "      <td>85.0</td>\n",
       "      <td>85.0</td>\n",
       "      <td>75.0</td>\n",
       "      <td>75</td>\n",
       "      <td>Large</td>\n",
       "      <td>Large</td>\n",
       "      <td>https://www.akc.org/dog-breeds/alaskan-malamute/</td>\n",
       "    </tr>\n",
       "  </tbody>\n",
       "</table>\n",
       "</div>"
      ],
      "text/plain": [
       "               Breed  Weight_Male_Min  Weight_Male_Max  Weight_Female_Min  \\\n",
       "0     Affenpinschers              7.0             10.0                7.0   \n",
       "1      Afghan Hounds             50.0             60.0               50.0   \n",
       "2  Airedale Terriers             50.0             70.0               50.0   \n",
       "3             Akitas            100.0            130.0               70.0   \n",
       "4  Alaskan Malamutes             85.0             85.0               75.0   \n",
       "\n",
       "   Weight_Female_Max Size_Male Size_Female  \\\n",
       "0                 10     Small       Small   \n",
       "1                 60    Medium      Medium   \n",
       "2                 70    Medium      Medium   \n",
       "3                100     Large       Large   \n",
       "4                 75     Large       Large   \n",
       "\n",
       "                                                Url  \n",
       "0     https://www.akc.org/dog-breeds/affenpinscher/  \n",
       "1      https://www.akc.org/dog-breeds/afghan-hound/  \n",
       "2  https://www.akc.org/dog-breeds/airedale-terrier/  \n",
       "3             https://www.akc.org/dog-breeds/akita/  \n",
       "4  https://www.akc.org/dog-breeds/alaskan-malamute/  "
      ]
     },
     "execution_count": 3,
     "metadata": {},
     "output_type": "execute_result"
    }
   ],
   "source": [
    "df.head()"
   ]
  },
  {
   "cell_type": "code",
   "execution_count": 17,
   "id": "c58f7411",
   "metadata": {},
   "outputs": [],
   "source": [
    "# Top_10_Male_Max_Weight\n",
    "df.sort_values('Weight_Male_Max',ascending=False).head(10).to_json('mtop10.json',orient=\"index\")\n",
    "# Bottom_10_Male_Max_Weight\n",
    "df.sort_values('Weight_Male_Max',ascending=True).head(10).to_json('mbottom10.json',orient=\"index\")\n",
    "\n",
    "# Top_10_Female_Max_Weight\n",
    "df.sort_values('Weight_Female_Max',ascending=False).head(10).to_json('ftop10.json',orient=\"index\")\n",
    "# Bottom_10_Female_Max_Weight\n",
    "df.sort_values('Weight_Female_Max',ascending=True).head(10).to_json('fbottom10.json',orient=\"index\")"
   ]
  },
  {
   "cell_type": "code",
   "execution_count": null,
   "id": "064f92b4",
   "metadata": {},
   "outputs": [],
   "source": []
  }
 ],
 "metadata": {
  "kernelspec": {
   "display_name": "Python 3",
   "language": "python",
   "name": "python3"
  },
  "language_info": {
   "codemirror_mode": {
    "name": "ipython",
    "version": 3
   },
   "file_extension": ".py",
   "mimetype": "text/x-python",
   "name": "python",
   "nbconvert_exporter": "python",
   "pygments_lexer": "ipython3",
   "version": "3.8.8"
  }
 },
 "nbformat": 4,
 "nbformat_minor": 5
}
